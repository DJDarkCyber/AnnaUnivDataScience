{
 "cells": [
  {
   "cell_type": "markdown",
   "id": "9c05fa62",
   "metadata": {},
   "source": [
    "#### Univariate analysis: Frequency, Mean, Median, Mode, Variance, Standard Deviation, Skewness and Kurtosis."
   ]
  },
  {
   "cell_type": "code",
   "execution_count": 1,
   "id": "d761d52e",
   "metadata": {},
   "outputs": [],
   "source": [
    "import pandas as pd\n",
    "import numpy as np \n",
    "import statistics as st"
   ]
  },
  {
   "cell_type": "code",
   "execution_count": 2,
   "id": "ccbefed2",
   "metadata": {},
   "outputs": [
    {
     "name": "stdout",
     "output_type": "stream",
     "text": [
      "(768, 9)\n",
      "<class 'pandas.core.frame.DataFrame'>\n",
      "RangeIndex: 768 entries, 0 to 767\n",
      "Data columns (total 9 columns):\n",
      " #   Column                    Non-Null Count  Dtype  \n",
      "---  ------                    --------------  -----  \n",
      " 0   Pregnancies               768 non-null    int64  \n",
      " 1   Glucose                   768 non-null    int64  \n",
      " 2   BloodPressure             768 non-null    int64  \n",
      " 3   SkinThickness             768 non-null    int64  \n",
      " 4   Insulin                   768 non-null    int64  \n",
      " 5   BMI                       768 non-null    float64\n",
      " 6   DiabetesPedigreeFunction  768 non-null    float64\n",
      " 7   Age                       768 non-null    int64  \n",
      " 8   Outcome                   768 non-null    int64  \n",
      "dtypes: float64(2), int64(7)\n",
      "memory usage: 54.1 KB\n",
      "None\n"
     ]
    }
   ],
   "source": [
    "# Load the data\n",
    "df = pd.read_csv(\"diabetes.csv\")\n",
    "print(df.shape)\n",
    "print(df.info())"
   ]
  },
  {
   "cell_type": "code",
   "execution_count": 3,
   "id": "97c21c55",
   "metadata": {},
   "outputs": [
    {
     "data": {
      "text/plain": [
       "Pregnancies                   3.845052\n",
       "Glucose                     120.894531\n",
       "BloodPressure                69.105469\n",
       "SkinThickness                20.536458\n",
       "Insulin                      79.799479\n",
       "BMI                          31.992578\n",
       "DiabetesPedigreeFunction      0.471876\n",
       "Age                          33.240885\n",
       "Outcome                       0.348958\n",
       "dtype: float64"
      ]
     },
     "execution_count": 3,
     "metadata": {},
     "output_type": "execute_result"
    }
   ],
   "source": [
    "# mean\n",
    "df.mean()"
   ]
  },
  {
   "cell_type": "code",
   "execution_count": 4,
   "id": "e0b8ab1e",
   "metadata": {},
   "outputs": [
    {
     "data": {
      "text/plain": [
       "Pregnancies                   3.0000\n",
       "Glucose                     117.0000\n",
       "BloodPressure                72.0000\n",
       "SkinThickness                23.0000\n",
       "Insulin                      30.5000\n",
       "BMI                          32.0000\n",
       "DiabetesPedigreeFunction      0.3725\n",
       "Age                          29.0000\n",
       "Outcome                       0.0000\n",
       "dtype: float64"
      ]
     },
     "execution_count": 4,
     "metadata": {},
     "output_type": "execute_result"
    }
   ],
   "source": [
    "# Median\n",
    "df.median()"
   ]
  },
  {
   "cell_type": "code",
   "execution_count": 5,
   "id": "edcef1aa",
   "metadata": {},
   "outputs": [
    {
     "data": {
      "text/html": [
       "<div>\n",
       "<style scoped>\n",
       "    .dataframe tbody tr th:only-of-type {\n",
       "        vertical-align: middle;\n",
       "    }\n",
       "\n",
       "    .dataframe tbody tr th {\n",
       "        vertical-align: top;\n",
       "    }\n",
       "\n",
       "    .dataframe thead th {\n",
       "        text-align: right;\n",
       "    }\n",
       "</style>\n",
       "<table border=\"1\" class=\"dataframe\">\n",
       "  <thead>\n",
       "    <tr style=\"text-align: right;\">\n",
       "      <th></th>\n",
       "      <th>Pregnancies</th>\n",
       "      <th>Glucose</th>\n",
       "      <th>BloodPressure</th>\n",
       "      <th>SkinThickness</th>\n",
       "      <th>Insulin</th>\n",
       "      <th>BMI</th>\n",
       "      <th>DiabetesPedigreeFunction</th>\n",
       "      <th>Age</th>\n",
       "      <th>Outcome</th>\n",
       "    </tr>\n",
       "  </thead>\n",
       "  <tbody>\n",
       "    <tr>\n",
       "      <th>0</th>\n",
       "      <td>1.0</td>\n",
       "      <td>99</td>\n",
       "      <td>70.0</td>\n",
       "      <td>0.0</td>\n",
       "      <td>0.0</td>\n",
       "      <td>32.0</td>\n",
       "      <td>0.254</td>\n",
       "      <td>22.0</td>\n",
       "      <td>0.0</td>\n",
       "    </tr>\n",
       "    <tr>\n",
       "      <th>1</th>\n",
       "      <td>NaN</td>\n",
       "      <td>100</td>\n",
       "      <td>NaN</td>\n",
       "      <td>NaN</td>\n",
       "      <td>NaN</td>\n",
       "      <td>NaN</td>\n",
       "      <td>0.258</td>\n",
       "      <td>NaN</td>\n",
       "      <td>NaN</td>\n",
       "    </tr>\n",
       "  </tbody>\n",
       "</table>\n",
       "</div>"
      ],
      "text/plain": [
       "   Pregnancies  Glucose  BloodPressure  SkinThickness  Insulin   BMI  \\\n",
       "0          1.0       99           70.0            0.0      0.0  32.0   \n",
       "1          NaN      100            NaN            NaN      NaN   NaN   \n",
       "\n",
       "   DiabetesPedigreeFunction   Age  Outcome  \n",
       "0                     0.254  22.0      0.0  \n",
       "1                     0.258   NaN      NaN  "
      ]
     },
     "execution_count": 5,
     "metadata": {},
     "output_type": "execute_result"
    }
   ],
   "source": [
    "# Mode\n",
    "df.mode()"
   ]
  },
  {
   "cell_type": "code",
   "execution_count": 6,
   "id": "5f7a36a6",
   "metadata": {},
   "outputs": [
    {
     "data": {
      "text/plain": [
       "Pregnancies                   3.369578\n",
       "Glucose                      31.972618\n",
       "BloodPressure                19.355807\n",
       "SkinThickness                15.952218\n",
       "Insulin                     115.244002\n",
       "BMI                           7.884160\n",
       "DiabetesPedigreeFunction      0.331329\n",
       "Age                          11.760232\n",
       "Outcome                       0.476951\n",
       "dtype: float64"
      ]
     },
     "execution_count": 6,
     "metadata": {},
     "output_type": "execute_result"
    }
   ],
   "source": [
    "# Standard division\n",
    "df.std()"
   ]
  },
  {
   "cell_type": "code",
   "execution_count": 7,
   "id": "d97d9eda",
   "metadata": {},
   "outputs": [
    {
     "data": {
      "text/plain": [
       "Pregnancies                    11.354056\n",
       "Glucose                      1022.248314\n",
       "BloodPressure                 374.647271\n",
       "SkinThickness                 254.473245\n",
       "Insulin                     13281.180078\n",
       "BMI                            62.159984\n",
       "DiabetesPedigreeFunction        0.109779\n",
       "Age                           138.303046\n",
       "Outcome                         0.227483\n",
       "dtype: float64"
      ]
     },
     "execution_count": 7,
     "metadata": {},
     "output_type": "execute_result"
    }
   ],
   "source": [
    "# Variance\n",
    "df.var()"
   ]
  },
  {
   "cell_type": "code",
   "execution_count": 8,
   "id": "8eba154e",
   "metadata": {},
   "outputs": [
    {
     "data": {
      "text/plain": [
       "17.0"
      ]
     },
     "execution_count": 8,
     "metadata": {},
     "output_type": "execute_result"
    }
   ],
   "source": [
    "# Interquartile Range \n",
    "from scipy.stats import iqr\n",
    "iqr(df['Age'])"
   ]
  },
  {
   "cell_type": "code",
   "execution_count": 9,
   "id": "b507c65e",
   "metadata": {},
   "outputs": [
    {
     "name": "stdout",
     "output_type": "stream",
     "text": [
      "Pregnancies                 0.901674\n",
      "Glucose                     0.173754\n",
      "BloodPressure              -1.843608\n",
      "SkinThickness               0.109372\n",
      "Insulin                     2.272251\n",
      "BMI                        -0.428982\n",
      "DiabetesPedigreeFunction    1.919911\n",
      "Age                         1.129597\n",
      "Outcome                     0.635017\n",
      "dtype: float64\n"
     ]
    }
   ],
   "source": [
    "# skewness \n",
    "print(df.skew())"
   ]
  },
  {
   "cell_type": "code",
   "execution_count": 10,
   "id": "eb7bd006",
   "metadata": {},
   "outputs": [
    {
     "data": {
      "text/html": [
       "<div>\n",
       "<style scoped>\n",
       "    .dataframe tbody tr th:only-of-type {\n",
       "        vertical-align: middle;\n",
       "    }\n",
       "\n",
       "    .dataframe tbody tr th {\n",
       "        vertical-align: top;\n",
       "    }\n",
       "\n",
       "    .dataframe thead th {\n",
       "        text-align: right;\n",
       "    }\n",
       "</style>\n",
       "<table border=\"1\" class=\"dataframe\">\n",
       "  <thead>\n",
       "    <tr style=\"text-align: right;\">\n",
       "      <th></th>\n",
       "      <th>Pregnancies</th>\n",
       "      <th>Glucose</th>\n",
       "      <th>BloodPressure</th>\n",
       "      <th>SkinThickness</th>\n",
       "      <th>Insulin</th>\n",
       "      <th>BMI</th>\n",
       "      <th>DiabetesPedigreeFunction</th>\n",
       "      <th>Age</th>\n",
       "      <th>Outcome</th>\n",
       "    </tr>\n",
       "  </thead>\n",
       "  <tbody>\n",
       "    <tr>\n",
       "      <th>0</th>\n",
       "      <td>6</td>\n",
       "      <td>148</td>\n",
       "      <td>72</td>\n",
       "      <td>35</td>\n",
       "      <td>0</td>\n",
       "      <td>33.6</td>\n",
       "      <td>0.627</td>\n",
       "      <td>50</td>\n",
       "      <td>1</td>\n",
       "    </tr>\n",
       "    <tr>\n",
       "      <th>1</th>\n",
       "      <td>1</td>\n",
       "      <td>85</td>\n",
       "      <td>66</td>\n",
       "      <td>29</td>\n",
       "      <td>0</td>\n",
       "      <td>26.6</td>\n",
       "      <td>0.351</td>\n",
       "      <td>31</td>\n",
       "      <td>0</td>\n",
       "    </tr>\n",
       "    <tr>\n",
       "      <th>2</th>\n",
       "      <td>8</td>\n",
       "      <td>183</td>\n",
       "      <td>64</td>\n",
       "      <td>0</td>\n",
       "      <td>0</td>\n",
       "      <td>23.3</td>\n",
       "      <td>0.672</td>\n",
       "      <td>32</td>\n",
       "      <td>1</td>\n",
       "    </tr>\n",
       "    <tr>\n",
       "      <th>3</th>\n",
       "      <td>1</td>\n",
       "      <td>89</td>\n",
       "      <td>66</td>\n",
       "      <td>23</td>\n",
       "      <td>94</td>\n",
       "      <td>28.1</td>\n",
       "      <td>0.167</td>\n",
       "      <td>21</td>\n",
       "      <td>0</td>\n",
       "    </tr>\n",
       "    <tr>\n",
       "      <th>4</th>\n",
       "      <td>0</td>\n",
       "      <td>137</td>\n",
       "      <td>40</td>\n",
       "      <td>35</td>\n",
       "      <td>168</td>\n",
       "      <td>43.1</td>\n",
       "      <td>2.288</td>\n",
       "      <td>33</td>\n",
       "      <td>1</td>\n",
       "    </tr>\n",
       "  </tbody>\n",
       "</table>\n",
       "</div>"
      ],
      "text/plain": [
       "   Pregnancies  Glucose  BloodPressure  SkinThickness  Insulin   BMI  \\\n",
       "0            6      148             72             35        0  33.6   \n",
       "1            1       85             66             29        0  26.6   \n",
       "2            8      183             64              0        0  23.3   \n",
       "3            1       89             66             23       94  28.1   \n",
       "4            0      137             40             35      168  43.1   \n",
       "\n",
       "   DiabetesPedigreeFunction  Age  Outcome  \n",
       "0                     0.627   50        1  \n",
       "1                     0.351   31        0  \n",
       "2                     0.672   32        1  \n",
       "3                     0.167   21        0  \n",
       "4                     2.288   33        1  "
      ]
     },
     "execution_count": 10,
     "metadata": {},
     "output_type": "execute_result"
    }
   ],
   "source": [
    "# Bivariante analysis: Linear and logistic regression modeling\n",
    "import pandas as pd\n",
    "df = pd.read_csv(\"diabetes.csv\")\n",
    "df.head()"
   ]
  },
  {
   "cell_type": "code",
   "execution_count": 11,
   "id": "d837c1c0",
   "metadata": {},
   "outputs": [],
   "source": [
    "import matplotlib.pyplot as plt\n",
    "import seaborn as sns \n",
    "sns.set(style='whitegrid', context='notebook') \n",
    "cols = ['Pregnancies','Glucose','BloodPressure','SkinThickness','Insulin','BMI','DiabetesPedigreeFunction','Age']"
   ]
  },
  {
   "cell_type": "code",
   "execution_count": 12,
   "id": "8ee45707",
   "metadata": {},
   "outputs": [
    {
     "data": {
      "image/png": "[encoded data removed]",
      "text/plain": [
       "<Figure size 432x288 with 2 Axes>"
      ]
     },
     "metadata": {},
     "output_type": "display_data"
    }
   ],
   "source": [
    "import numpy as np\n",
    "cm = np.corrcoef(df[cols].values.T) \n",
    "sns.set(font_scale=1.5)\n",
    "hm = sns.heatmap(cm,cbar=True,annot=True,square=True,fmt='.2f',annot_kws={'size': 15},yticklabels=cols,xticklabels=cols)\n",
    "plt.show()"
   ]
  },
  {
   "cell_type": "code",
   "execution_count": 39,
   "id": "e6769310",
   "metadata": {},
   "outputs": [
    {
     "data": {
      "text/plain": [
       "(1, 768)"
      ]
     },
     "execution_count": 39,
     "metadata": {},
     "output_type": "execute_result"
    }
   ],
   "source": []
  },
  {
   "cell_type": "code",
   "execution_count": 2,
   "id": "82ea2183",
   "metadata": {},
   "outputs": [
    {
     "name": "stderr",
     "output_type": "stream",
     "text": [
      "/home/djoe/Documents/myprogramming/hackpython/dataScience/udemy_proj/env/lib/python3.10/site-packages/scipy/__init__.py:146: UserWarning: A NumPy version >=1.16.5 and <1.23.0 is required for this version of SciPy (detected version 1.23.4\n",
      "  warnings.warn(f\"A NumPy version >={np_minversion} and <{np_maxversion}\"\n"
     ]
    },
    {
     "data": {
      "image/png": "[encoded data removed]",
      "text/plain": [
       "<Figure size 640x480 with 1 Axes>"
      ]
     },
     "metadata": {},
     "output_type": "display_data"
    }
   ],
   "source": [
    "import pandas as pd\n",
    "import numpy as np\n",
    "import matplotlib.pyplot as plt\n",
    "class LinearRegressionGD(object):\n",
    "    def __init__(self, eta=0.001, n_iter=20):\n",
    "        self.eta = eta\n",
    "        self.n_iter = n_iter\n",
    "    def fit(self, X, y):\n",
    "        self.w_ = np.zeros(1 + X.shape[1]) \n",
    "        self.cost_ = [] \n",
    "        for i in range(self.n_iter): \n",
    "            output = self.net_input(X)\n",
    "            errors = (y[:,0] - output) \n",
    "            self.w_[1:] += self.eta * X.T.dot(errors) \n",
    "            self.w_[0] += self.eta * errors.sum() \n",
    "            cost = (errors**2).sum() / 2.0 \n",
    "            self.cost_.append(cost) \n",
    "        return self \n",
    "    def net_input(self, X): \n",
    "        return np.dot(X, self.w_[1:]) + self.w_[0] \n",
    "    def predict(self, X): \n",
    "        return self.net_input(X)\n",
    "df=pd.read_csv('diabetes.csv')\n",
    "X = df[['Age']].values \n",
    "y = df[['Pregnancies']].values \n",
    "from sklearn.preprocessing import StandardScaler\n",
    "sc_x = StandardScaler()\n",
    "sc_y = StandardScaler() \n",
    "X_std = sc_x.fit_transform(X)\n",
    "y_std = sc_y.fit_transform(y)\n",
    "lr = LinearRegressionGD() \n",
    "lr.fit(X_std, y_std) \n",
    "plt.plot(range(1, lr.n_iter+1), lr.cost_) \n",
    "plt.ylabel('SSE') \n",
    "plt.xlabel('Epoch') \n",
    "plt.show()\n"
   ]
  },
  {
   "cell_type": "code",
   "execution_count": 21,
   "id": "9b5a5e36",
   "metadata": {},
   "outputs": [
    {
     "data": {
      "text/plain": [
       "(768, 1)"
      ]
     },
     "execution_count": 21,
     "metadata": {},
     "output_type": "execute_result"
    }
   ],
   "source": [
    "y_std.shape"
   ]
  },
  {
   "cell_type": "code",
   "execution_count": 5,
   "id": "9e61a4f3",
   "metadata": {},
   "outputs": [
    {
     "data": {
      "image/png": "[encoded data removed]",
      "text/plain": [
       "<Figure size 640x480 with 1 Axes>"
      ]
     },
     "metadata": {},
     "output_type": "display_data"
    }
   ],
   "source": [
    "def lin_regplot(X, y, model): \n",
    "    plt.scatter(X, y, c='blue')\n",
    "    plt.plot(X, model.predict(X), color='red') \n",
    "    return None \n",
    "lin_regplot(X_std, y_std, lr) \n",
    "plt.xlabel('Age (standardized)') \n",
    "plt.ylabel('Pregnancies(standardized)') \n",
    "plt.show()"
   ]
  },
  {
   "cell_type": "code",
   "execution_count": 8,
   "id": "d3a3958c",
   "metadata": {},
   "outputs": [
    {
     "name": "stdout",
     "output_type": "stream",
     "text": [
      "Pregnancy: 1.780\n",
      "Slope: 0.544\n"
     ]
    }
   ],
   "source": [
    "X = df[['Age']].values \n",
    "y = df[['Pregnancies']].values \n",
    "from sklearn.preprocessing import StandardScaler \n",
    "sc_x = StandardScaler() \n",
    "sc_y = StandardScaler() \n",
    "X_std = sc_x.fit_transform(X)\n",
    "y_std = sc_y.fit_transform(y)\n",
    "age_std = sc_x.transform([[20]]) \n",
    "pregnancy_std = lr.predict(age_std) \n",
    "print(\"Pregnancy: %.3f\" %sc_y.inverse_transform([pregnancy_std])) \n",
    "print('Slope: %.3f' % lr.w_[1])"
   ]
  },
  {
   "cell_type": "code",
   "execution_count": 9,
   "id": "67fea531",
   "metadata": {},
   "outputs": [
    {
     "data": {
      "text/html": [
       "<div>\n",
       "<style scoped>\n",
       "    .dataframe tbody tr th:only-of-type {\n",
       "        vertical-align: middle;\n",
       "    }\n",
       "\n",
       "    .dataframe tbody tr th {\n",
       "        vertical-align: top;\n",
       "    }\n",
       "\n",
       "    .dataframe thead th {\n",
       "        text-align: right;\n",
       "    }\n",
       "</style>\n",
       "<table border=\"1\" class=\"dataframe\">\n",
       "  <thead>\n",
       "    <tr style=\"text-align: right;\">\n",
       "      <th></th>\n",
       "      <th>Actual</th>\n",
       "      <th>Predict</th>\n",
       "    </tr>\n",
       "  </thead>\n",
       "  <tbody>\n",
       "    <tr>\n",
       "      <th>0</th>\n",
       "      <td>0</td>\n",
       "      <td>8.233150</td>\n",
       "    </tr>\n",
       "    <tr>\n",
       "      <th>1</th>\n",
       "      <td>4</td>\n",
       "      <td>2.476792</td>\n",
       "    </tr>\n",
       "    <tr>\n",
       "      <th>2</th>\n",
       "      <td>4</td>\n",
       "      <td>2.632370</td>\n",
       "    </tr>\n",
       "    <tr>\n",
       "      <th>3</th>\n",
       "      <td>3</td>\n",
       "      <td>2.321215</td>\n",
       "    </tr>\n",
       "    <tr>\n",
       "      <th>4</th>\n",
       "      <td>3</td>\n",
       "      <td>2.632370</td>\n",
       "    </tr>\n",
       "    <tr>\n",
       "      <th>...</th>\n",
       "      <td>...</td>\n",
       "      <td>...</td>\n",
       "    </tr>\n",
       "    <tr>\n",
       "      <th>226</th>\n",
       "      <td>12</td>\n",
       "      <td>6.055069</td>\n",
       "    </tr>\n",
       "    <tr>\n",
       "      <th>227</th>\n",
       "      <td>3</td>\n",
       "      <td>6.677377</td>\n",
       "    </tr>\n",
       "    <tr>\n",
       "      <th>228</th>\n",
       "      <td>9</td>\n",
       "      <td>5.588337</td>\n",
       "    </tr>\n",
       "    <tr>\n",
       "      <th>229</th>\n",
       "      <td>8</td>\n",
       "      <td>9.166613</td>\n",
       "    </tr>\n",
       "    <tr>\n",
       "      <th>230</th>\n",
       "      <td>4</td>\n",
       "      <td>5.588337</td>\n",
       "    </tr>\n",
       "  </tbody>\n",
       "</table>\n",
       "<p>231 rows × 2 columns</p>\n",
       "</div>"
      ],
      "text/plain": [
       "     Actual   Predict\n",
       "0         0  8.233150\n",
       "1         4  2.476792\n",
       "2         4  2.632370\n",
       "3         3  2.321215\n",
       "4         3  2.632370\n",
       "..      ...       ...\n",
       "226      12  6.055069\n",
       "227       3  6.677377\n",
       "228       9  5.588337\n",
       "229       8  9.166613\n",
       "230       4  5.588337\n",
       "\n",
       "[231 rows x 2 columns]"
      ]
     },
     "execution_count": 9,
     "metadata": {},
     "output_type": "execute_result"
    }
   ],
   "source": [
    "from sklearn.model_selection import train_test_split \n",
    "train_x, test_x, train_y, test_y = train_test_split(X,y,test_size=0.3,random_state=99)\n",
    "train_x.shape, train_y.shape \n",
    "from sklearn.linear_model import LinearRegression \n",
    "le = LinearRegression() \n",
    "le.fit(train_x,train_y) \n",
    "y_pred = le.predict(test_x)\n",
    "y_pred \n",
    "result = pd.DataFrame({'Actual': test_y[:,0], 'Predict' : y_pred[:,0]}) \n",
    "result"
   ]
  },
  {
   "cell_type": "code",
   "execution_count": 10,
   "id": "c2ee40ec",
   "metadata": {},
   "outputs": [
    {
     "name": "stdout",
     "output_type": "stream",
     "text": [
      "coefficient [[0.15557723]]\n",
      "intercept [-1.41263827]\n"
     ]
    }
   ],
   "source": [
    "print ('coefficient', le.coef_)\n",
    "print('intercept', le.intercept_)"
   ]
  },
  {
   "cell_type": "code",
   "execution_count": 17,
   "id": "614aa4b7",
   "metadata": {},
   "outputs": [
    {
     "name": "stdout",
     "output_type": "stream",
     "text": [
      "DataComPy Comparison\n",
      "--------------------\n",
      "\n",
      "DataFrame Summary\n",
      "-----------------\n",
      "\n",
      "     DataFrame  Columns  Rows\n",
      "0  olddiabetes        9   384\n",
      "1  newdiabetes        9   384\n",
      "\n",
      "Column Summary\n",
      "--------------\n",
      "\n",
      "Number of columns in common: 9\n",
      "Number of columns in olddiabetes but not in newdiabetes: 0\n",
      "Number of columns in newdiabetes but not in olddiabetes: 0\n",
      "\n",
      "Row Summary\n",
      "-----------\n",
      "\n",
      "Matched on: age\n",
      "Any duplicates on match values: Yes\n",
      "Absolute Tolerance: 0.0001\n",
      "Relative Tolerance: 0\n",
      "Number of rows in common: 319\n",
      "Number of rows in olddiabetes but not in newdiabetes: 65\n",
      "Number of rows in newdiabetes but not in olddiabetes: 65\n",
      "\n",
      "Number of rows with some compared columns unequal: 319\n",
      "Number of rows with all compared columns equal: 0\n",
      "\n",
      "Column Comparison\n",
      "-----------------\n",
      "\n",
      "Number of columns compared with some values unequal: 8\n",
      "Number of columns compared with all values equal: 1\n",
      "Total number of values which compare unequal: 2,171\n",
      "\n",
      "Columns with Unequal Values or Types\n",
      "------------------------------------\n",
      "\n",
      "                     Column olddiabetes dtype newdiabetes dtype  # Unequal  Max Diff  # Null Diff\n",
      "2             bloodpressure             int64             int64        299    90.000            0\n",
      "5                       bmi           float64           float64        317    44.000            0\n",
      "6  diabetespedigreefunction           float64           float64        319     2.162            0\n",
      "1                   glucose             int64             int64        314   139.000            0\n",
      "4                   insulin             int64             int64        244   846.000            0\n",
      "7                   outcome             int64             int64        115     1.000            0\n",
      "0               pregnancies             int64             int64        276    10.000            0\n",
      "3             skinthickness             int64             int64        287    54.000            0\n",
      "\n",
      "Sample Rows with Unequal Values\n",
      "-------------------------------\n",
      "\n",
      "     age  pregnancies (olddiabetes)  pregnancies (newdiabetes)\n",
      "98    23                        6.0                        1.0\n",
      "356   28                        1.0                        3.0\n",
      "303   28                        5.0                        4.0\n",
      "309   30                        2.0                        5.0\n",
      "176   42                        6.0                        5.0\n",
      "182   21                        1.0                        0.0\n",
      "372   21                        0.0                        1.0\n",
      "66    38                        0.0                        1.0\n",
      "265   43                        5.0                        6.0\n",
      "168   29                        4.0                        1.0\n",
      "\n",
      "     age  glucose (olddiabetes)  glucose (newdiabetes)\n",
      "308   25                  128.0                   82.0\n",
      "237   23                  179.0                   91.0\n",
      "69    27                  146.0                  154.0\n",
      "167   34                  120.0                  107.0\n",
      "58    44                  146.0                  132.0\n",
      "304   37                  150.0                  128.0\n",
      "20    27                  126.0                  166.0\n",
      "153   23                  153.0                  143.0\n",
      "345   49                  126.0                  125.0\n",
      "137   22                   93.0                  122.0\n",
      "\n",
      "     age  bloodpressure (olddiabetes)  bloodpressure (newdiabetes)\n",
      "101   22                         60.0                         62.0\n",
      "381   22                         68.0                         88.0\n",
      "135   31                         60.0                         65.0\n",
      "10    30                         92.0                         68.0\n",
      "46    29                         56.0                         80.0\n",
      "275   25                         70.0                         68.0\n",
      "236   51                         84.0                        106.0\n",
      "83    22                         65.0                         66.0\n",
      "216   25                         62.0                         64.0\n",
      "261   27                          0.0                         80.0\n",
      "\n",
      "     age  skinthickness (olddiabetes)  skinthickness (newdiabetes)\n",
      "121   24                         39.0                          0.0\n",
      "228   31                         39.0                          0.0\n",
      "149   22                         17.0                         31.0\n",
      "321   25                         30.0                         27.0\n",
      "65    32                         27.0                          0.0\n",
      "155   36                         44.0                          0.0\n",
      "134   26                         13.0                          0.0\n",
      "225   22                         27.0                         14.0\n",
      "49    24                          0.0                         13.0\n",
      "45    25                         39.0                         24.0\n",
      "\n",
      "     age  insulin (olddiabetes)  insulin (newdiabetes)\n",
      "61    39                    0.0                  115.0\n",
      "63    24                  128.0                  120.0\n",
      "361   63                    0.0                  180.0\n",
      "90    21                    0.0                   76.0\n",
      "295   28                  120.0                   49.0\n",
      "17    31                    0.0                  277.0\n",
      "107   37                  140.0                    0.0\n",
      "62    36                    0.0                  210.0\n",
      "119   21                   51.0                  105.0\n",
      "135   31                  140.0                    0.0\n",
      "\n",
      "     age  bmi (olddiabetes)  bmi (newdiabetes)\n",
      "299   58               23.6               46.5\n",
      "57    31               46.8               23.8\n",
      "74    22               32.0               32.2\n",
      "46    29               29.7               33.7\n",
      "196   21               24.3               18.2\n",
      "75    22               24.7               33.6\n",
      "252   24               24.4               27.1\n",
      "314   43               35.9               38.5\n",
      "345   49               38.5               27.6\n",
      "60    21                0.0               34.6\n",
      "\n",
      "     age  diabetespedigreefunction (olddiabetes)  diabetespedigreefunction (newdiabetes)\n",
      "271   21                                   0.128                                   0.514\n",
      "270   38                                   1.136                                   0.263\n",
      "239   27                                   0.582                                   0.455\n",
      "71    26                                   0.411                                   0.330\n",
      "313   25                                   0.626                                   0.482\n",
      "181   23                                   0.725                                   0.343\n",
      "216   25                                   0.514                                   0.600\n",
      "370   25                                   2.137                                   0.127\n",
      "258   24                                   0.655                                   0.292\n",
      "257   25                                   0.092                                   0.187\n",
      "\n",
      "     age  outcome (olddiabetes)  outcome (newdiabetes)\n",
      "236   51                    1.0                    0.0\n",
      "225   22                    0.0                    1.0\n",
      "315   26                    0.0                    1.0\n",
      "309   30                    1.0                    0.0\n",
      "58    44                    0.0                    1.0\n",
      "250   42                    0.0                    1.0\n",
      "159   47                    1.0                    0.0\n",
      "48    31                    1.0                    0.0\n",
      "213   24                    1.0                    0.0\n",
      "109   24                    1.0                    0.0\n",
      "\n",
      "Sample Rows Only in olddiabetes (First 10 Columns)\n",
      "--------------------------------------------------\n",
      "\n",
      "     pregnancies  glucose  bloodpressure  skinthickness  insulin   bmi  diabetespedigreefunction  age  outcome\n",
      "339          7.0    178.0           84.0            0.0      0.0  39.9                     0.331   41      1.0\n",
      "233          4.0    122.0           68.0            0.0      0.0  35.0                     0.394   29      0.0\n",
      "366          6.0    124.0           72.0            0.0      0.0  27.6                     0.368   29      1.0\n",
      "148          5.0    147.0           78.0            0.0      0.0  33.7                     0.218   65      0.0\n",
      "115          4.0    146.0           92.0            0.0      0.0  31.2                     0.539   61      1.0\n",
      "317          3.0    182.0           74.0            0.0      0.0  30.5                     0.345   29      1.0\n",
      "93           4.0    134.0           72.0            0.0      0.0  23.8                     0.277   60      1.0\n",
      "337          5.0    115.0           76.0            0.0      0.0  31.2                     0.343   44      1.0\n",
      "276          7.0    106.0           60.0           24.0      0.0  26.5                     0.296   29      1.0\n",
      "351          4.0    137.0           84.0            0.0      0.0  31.2                     0.252   30      0.0\n",
      "\n",
      "Sample Rows Only in newdiabetes (First 10 Columns)\n",
      "--------------------------------------------------\n",
      "\n",
      "     pregnancies  glucose  bloodpressure  skinthickness  insulin   bmi  diabetespedigreefunction  age  outcome\n",
      "394          0.0    198.0           66.0           32.0    274.0  41.3                     0.502   28      1.0\n",
      "388          0.0     57.0           60.0            0.0      0.0  21.7                     0.735   67      0.0\n",
      "433          1.0    109.0           58.0           18.0    116.0  28.5                     0.219   22      0.0\n",
      "395          3.0     78.0           70.0            0.0      0.0  32.5                     0.270   39      0.0\n",
      "424          4.0    112.0           78.0           40.0      0.0  39.4                     0.236   38      0.0\n",
      "407         13.0    104.0           72.0            0.0      0.0  31.2                     0.465   38      1.0\n",
      "444          0.0    123.0           72.0            0.0      0.0  36.3                     0.258   52      1.0\n",
      "420          3.0    173.0           78.0           39.0    185.0  33.8                     0.970   31      1.0\n",
      "437          1.0    147.0           94.0           41.0      0.0  49.3                     0.358   27      1.0\n",
      "387          8.0    120.0           78.0            0.0      0.0  25.0                     0.409   64      0.0\n",
      "\n",
      "\n"
     ]
    }
   ],
   "source": [
    "import datacompy\n",
    "df1=pd.read_csv(\"diap1.csv\")\n",
    "df2=pd.read_csv(\"diap2.csv\")\n",
    "compare = datacompy.Compare(df1,df2,join_columns='Age', abs_tol=0.0001,rel_tol=0,df1_name='olddiabetes',df2_name='newdiabetes') \n",
    "print(compare.report())"
   ]
  },
  {
   "cell_type": "code",
   "execution_count": null,
   "id": "45c6c9e6",
   "metadata": {},
   "outputs": [],
   "source": []
  }
 ],
 "metadata": {
  "kernelspec": {
   "display_name": "Python 3 (ipykernel)",
   "language": "python",
   "name": "python3"
  },
  "language_info": {
   "codemirror_mode": {
    "name": "ipython",
    "version": 3
   },
   "file_extension": ".py",
   "mimetype": "text/x-python",
   "name": "python",
   "nbconvert_exporter": "python",
   "pygments_lexer": "ipython3",
   "version": "3.9.12"
  }
 },
 "nbformat": 4,
 "nbformat_minor": 5
}
