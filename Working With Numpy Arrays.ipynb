{
 "cells": [
  {
   "cell_type": "markdown",
   "id": "52b897f3",
   "metadata": {},
   "source": [
    "# One dimensional array"
   ]
  },
  {
   "cell_type": "code",
   "execution_count": 2,
   "id": "0f6d4565",
   "metadata": {},
   "outputs": [],
   "source": [
    "# importing numpy arrays\n",
    "import numpy as np"
   ]
  },
  {
   "cell_type": "code",
   "execution_count": 3,
   "id": "4ee64634",
   "metadata": {},
   "outputs": [],
   "source": [
    "# Creating list\n",
    "list = [1, 2, 3, 4]"
   ]
  },
  {
   "cell_type": "code",
   "execution_count": 4,
   "id": "74909bc9",
   "metadata": {},
   "outputs": [],
   "source": [
    "# Creating numpy array\n",
    "sample_array = np.array(list)"
   ]
  },
  {
   "cell_type": "code",
   "execution_count": 5,
   "id": "a324174a",
   "metadata": {},
   "outputs": [
    {
     "name": "stdout",
     "output_type": "stream",
     "text": [
      "List in python:  [1, 2, 3, 4]\n",
      "Numpy array in python:  [1 2 3 4]\n"
     ]
    }
   ],
   "source": [
    "print(\"List in python: \", list)\n",
    "print(\"Numpy array in python: \", sample_array)"
   ]
  },
  {
   "cell_type": "markdown",
   "id": "5c32b4f3",
   "metadata": {},
   "source": [
    "# Multi-Dimensional array"
   ]
  },
  {
   "cell_type": "code",
   "execution_count": 6,
   "id": "7742fd0e",
   "metadata": {},
   "outputs": [],
   "source": [
    "# importing numpy module\n",
    "import numpy as np"
   ]
  },
  {
   "cell_type": "code",
   "execution_count": 7,
   "id": "9d3745a4",
   "metadata": {},
   "outputs": [],
   "source": [
    "# Creating list\n",
    "list1 = [1, 2, 3, 4]\n",
    "list2 = [5, 6, 7, 8]\n",
    "list3 = [9, 10, 11, 12]"
   ]
  },
  {
   "cell_type": "code",
   "execution_count": 10,
   "id": "072b5cb3",
   "metadata": {},
   "outputs": [],
   "source": [
    "# Creating numpy array\n",
    "sample_array = np.array([list1, list2, list3])"
   ]
  },
  {
   "cell_type": "code",
   "execution_count": 11,
   "id": "9f625994",
   "metadata": {},
   "outputs": [
    {
     "name": "stdout",
     "output_type": "stream",
     "text": [
      "Numpy multi-dimensional array in python :  [[ 1  2  3  4]\n",
      " [ 5  6  7  8]\n",
      " [ 9 10 11 12]]\n"
     ]
    }
   ],
   "source": [
    "print(\"Numpy multi-dimensional array in python : \", sample_array)"
   ]
  },
  {
   "cell_type": "code",
   "execution_count": null,
   "id": "d5e85dc6",
   "metadata": {},
   "outputs": [],
   "source": []
  }
 ],
 "metadata": {
  "kernelspec": {
   "display_name": "Python 3 (ipykernel)",
   "language": "python",
   "name": "python3"
  },
  "language_info": {
   "codemirror_mode": {
    "name": "ipython",
    "version": 3
   },
   "file_extension": ".py",
   "mimetype": "text/x-python",
   "name": "python",
   "nbconvert_exporter": "python",
   "pygments_lexer": "ipython3",
   "version": "3.9.12"
  }
 },
 "nbformat": 4,
 "nbformat_minor": 5
}
